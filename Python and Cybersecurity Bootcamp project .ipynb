{
 "cells": [
  {
   "cell_type": "markdown",
   "metadata": {},
   "source": [
    "# Record the weather imformation of different cities in text file using python\n"
   ]
  },
  {
   "cell_type": "code",
   "execution_count": 1,
   "metadata": {},
   "outputs": [],
   "source": [
    "# import the request module \n",
    "import requests "
   ]
  },
  {
   "cell_type": "code",
   "execution_count": 2,
   "metadata": {},
   "outputs": [],
   "source": [
    "# from datetime module import datetime \n",
    "from datetime import datetime\n"
   ]
  },
  {
   "cell_type": "code",
   "execution_count": 3,
   "metadata": {},
   "outputs": [],
   "source": [
    "# defining the function \n",
    "\n",
    "def func(api_key, location):\n",
    "    \n",
    "    complete_api_link = \"https://api.openweathermap.org/data/2.5/weather?q=\" + location + \"&appid=\" + api_key\n",
    "    \n",
    "    api_link = requests.get(complete_api_link)\n",
    "    api_data = api_link.json()\n",
    "    \n",
    "    #datetime \n",
    "    date_time = datetime.now().strftime(\"%d %b %Y | %I:%M:%S %p\")\n",
    "    \n",
    "    # what is the temperature \n",
    "    temp_actual = round((api_data['main']['temp']) - 273.15, 2 ) # in celsius\n",
    "    \n",
    "    # what temperature feels like \n",
    "    feels_like = round((api_data['main']['feels_like']) - 273.15, 2) # in celsius\n",
    "    \n",
    "    # what is the weather condition \n",
    "    weather = api_data['weather'][0]['description']\n",
    "    \n",
    "    # humidity at the place \n",
    "    humid = api_data['main']['humidity']\n",
    "    \n",
    "    # wind speed \n",
    "    wind_speed = api_data['wind']['speed']\n",
    "    \n",
    "    \n",
    "    # write the output in the .txt file \n",
    "    weather_desc = open(\"{} Weather Condition.txt\".format(location.title()), \"w\")\n",
    "    \n",
    "    \n",
    "    \n",
    "    weather_desc.write(\"\\t\\t\\tCurrent Weather Stats of {} \".format(location.title()) )\n",
    "    weather_desc.write(\"\\n\\n{}\".format(date_time))\n",
    "    \n",
    "    \n",
    "    weather_desc.write(\"\\n\\n\\n\"+\"-\"*35)\n",
    "    weather_desc.write(f\"\\n1. Temperatue : {temp_actual} deg C\",)\n",
    "    weather_desc.write(f\"\\n\\n2. Temperature feels like : {feels_like} deg C \")\n",
    "    weather_desc.write(f\"\\n\\n3. Weather description : {weather}\")    \n",
    "    weather_desc.write(f\"\\n\\n4. Humidity in air : {humid} %\")\n",
    "    weather_desc.write(f\"\\n\\n5. Wind speed : {wind_speed} kmph\") \n",
    "    weather_desc.write(\"\\n\" + \"-\"*35)\n",
    "    \n",
    "\n",
    "    \n",
    "    \n",
    "    \n",
    "    "
   ]
  },
  {
   "cell_type": "code",
   "execution_count": 4,
   "metadata": {},
   "outputs": [
    {
     "name": "stdout",
     "output_type": "stream",
     "text": [
      "Enter the city name : gurugram\n"
     ]
    }
   ],
   "source": [
    "api_key =\"f7424886316acb7a52834b29f9642f19\"\n",
    "\n",
    "\n",
    "\n",
    "# input the name of the city \n",
    "location = input(\"Enter the city name : \")\n",
    "\n",
    "\n",
    "\n",
    "# calling the function\n",
    "try : \n",
    "    func(api_key, location)\n",
    "except :\n",
    "    print(\"\\n\\nEntered city name is incorrect!\")\n",
    "    \n",
    "    \n",
    "    "
   ]
  },
  {
   "cell_type": "code",
   "execution_count": null,
   "metadata": {},
   "outputs": [],
   "source": []
  },
  {
   "cell_type": "code",
   "execution_count": null,
   "metadata": {},
   "outputs": [],
   "source": []
  }
 ],
 "metadata": {
  "kernelspec": {
   "display_name": "Python 3",
   "language": "python",
   "name": "python3"
  },
  "language_info": {
   "codemirror_mode": {
    "name": "ipython",
    "version": 3
   },
   "file_extension": ".py",
   "mimetype": "text/x-python",
   "name": "python",
   "nbconvert_exporter": "python",
   "pygments_lexer": "ipython3",
   "version": "3.8.5"
  }
 },
 "nbformat": 4,
 "nbformat_minor": 4
}
